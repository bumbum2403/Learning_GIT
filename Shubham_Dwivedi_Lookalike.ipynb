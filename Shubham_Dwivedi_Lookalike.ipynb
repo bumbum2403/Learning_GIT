{
  "nbformat": 4,
  "nbformat_minor": 0,
  "metadata": {
    "colab": {
      "provenance": [],
      "authorship_tag": "ABX9TyPHoPTOcGP2kNqHkl6NgEfQ",
      "include_colab_link": true
    },
    "kernelspec": {
      "name": "python3",
      "display_name": "Python 3"
    },
    "language_info": {
      "name": "python"
    }
  },
  "cells": [
    {
      "cell_type": "markdown",
      "metadata": {
        "id": "view-in-github",
        "colab_type": "text"
      },
      "source": [
        "<a href=\"https://colab.research.google.com/github/bumbum2403/Zeotap_Assessment/blob/main/Shubham_Dwivedi_Lookalike.ipynb\" target=\"_parent\"><img src=\"https://colab.research.google.com/assets/colab-badge.svg\" alt=\"Open In Colab\"/></a>"
      ]
    },
    {
      "cell_type": "code",
      "execution_count": 1,
      "metadata": {
        "id": "BD4LXpmM6col"
      },
      "outputs": [],
      "source": [
        "import pandas as pd\n",
        "\n",
        "customers = pd.read_csv(\"Customers.csv\")\n",
        "products = pd.read_csv(\"Products.csv\")\n",
        "transactions = pd.read_csv(\"Transactions.csv\")"
      ]
    },
    {
      "cell_type": "code",
      "source": [
        "# Merge Transactions with Products to include product details\n",
        "transactions_products = pd.merge(transactions, products, on=\"ProductID\", how=\"left\")\n",
        "\n",
        "# Merge the result with Customers to include customer details\n",
        "full_data = pd.merge(transactions_products, customers, on=\"CustomerID\", how=\"left\")\n",
        "\n",
        "print(\"Merged Dataset:\")\n",
        "print(full_data.head())\n",
        "\n",
        "# Save the merged dataset to inspect if needed\n",
        "full_data.to_csv(\"Merged_Dataset.csv\", index=False)\n"
      ],
      "metadata": {
        "colab": {
          "base_uri": "https://localhost:8080/"
        },
        "id": "BcjO4rJKGHap",
        "outputId": "dc733132-fca5-4a9d-fae1-ae8ac88717d7"
      },
      "execution_count": 9,
      "outputs": [
        {
          "output_type": "stream",
          "name": "stdout",
          "text": [
            "Merged Dataset:\n",
            "  TransactionID CustomerID ProductID      TransactionDate  Quantity  \\\n",
            "0        T00001      C0199      P067  2024-08-25 12:38:23         1   \n",
            "1        T00112      C0146      P067  2024-05-27 22:23:54         1   \n",
            "2        T00166      C0127      P067  2024-04-25 07:38:55         1   \n",
            "3        T00272      C0087      P067  2024-03-26 22:55:37         2   \n",
            "4        T00363      C0070      P067  2024-03-21 15:10:10         3   \n",
            "\n",
            "   TotalValue  Price_x                      ProductName     Category  Price_y  \\\n",
            "0      300.68   300.68  ComfortLiving Bluetooth Speaker  Electronics   300.68   \n",
            "1      300.68   300.68  ComfortLiving Bluetooth Speaker  Electronics   300.68   \n",
            "2      300.68   300.68  ComfortLiving Bluetooth Speaker  Electronics   300.68   \n",
            "3      601.36   300.68  ComfortLiving Bluetooth Speaker  Electronics   300.68   \n",
            "4      902.04   300.68  ComfortLiving Bluetooth Speaker  Electronics   300.68   \n",
            "\n",
            "      CustomerName         Region  SignupDate  \n",
            "0   Andrea Jenkins         Europe  2022-12-03  \n",
            "1  Brittany Harvey           Asia  2024-09-04  \n",
            "2  Kathryn Stevens         Europe  2024-04-04  \n",
            "3  Travis Campbell  South America  2024-04-11  \n",
            "4    Timothy Perez         Europe  2022-03-15  \n"
          ]
        }
      ]
    },
    {
      "cell_type": "code",
      "source": [
        "full_data.columns\n"
      ],
      "metadata": {
        "colab": {
          "base_uri": "https://localhost:8080/"
        },
        "id": "ycfrrgp7HA9B",
        "outputId": "31e79e74-9cdf-41db-d82d-288b70913888"
      },
      "execution_count": 7,
      "outputs": [
        {
          "output_type": "execute_result",
          "data": {
            "text/plain": [
              "Index(['TransactionID', 'CustomerID', 'ProductID', 'TransactionDate',\n",
              "       'Quantity', 'TotalValue', 'Price_x', 'ProductName', 'Category',\n",
              "       'Price_y', 'CustomerName', 'Region', 'SignupDate'],\n",
              "      dtype='object')"
            ]
          },
          "metadata": {},
          "execution_count": 7
        }
      ]
    },
    {
      "cell_type": "markdown",
      "source": [
        "The 2 columns, price_x and price_y have exactly same values in them, so let's drop one of them, and rename the other as Price only for generating better data"
      ],
      "metadata": {
        "id": "eAU-4x_PHlpK"
      }
    },
    {
      "cell_type": "code",
      "source": [
        "full_data = full_data.drop(columns=[\"Price_x\"]).rename(columns={\"Price_y\": \"Price\"})\n",
        "\n",
        "print(\"Updated Merged Dataset (Duplicate Price Column Removed):\")\n",
        "print(full_data.head())\n"
      ],
      "metadata": {
        "colab": {
          "base_uri": "https://localhost:8080/"
        },
        "id": "7ZUVGNMDHvmb",
        "outputId": "e35ce83e-5ca0-43ff-88cd-db3a57ee6e22"
      },
      "execution_count": 11,
      "outputs": [
        {
          "output_type": "stream",
          "name": "stdout",
          "text": [
            "Updated Merged Dataset (Duplicate Price Column Removed):\n",
            "  TransactionID CustomerID ProductID      TransactionDate  Quantity  \\\n",
            "0        T00001      C0199      P067  2024-08-25 12:38:23         1   \n",
            "1        T00112      C0146      P067  2024-05-27 22:23:54         1   \n",
            "2        T00166      C0127      P067  2024-04-25 07:38:55         1   \n",
            "3        T00272      C0087      P067  2024-03-26 22:55:37         2   \n",
            "4        T00363      C0070      P067  2024-03-21 15:10:10         3   \n",
            "\n",
            "   TotalValue                      ProductName     Category   Price  \\\n",
            "0      300.68  ComfortLiving Bluetooth Speaker  Electronics  300.68   \n",
            "1      300.68  ComfortLiving Bluetooth Speaker  Electronics  300.68   \n",
            "2      300.68  ComfortLiving Bluetooth Speaker  Electronics  300.68   \n",
            "3      601.36  ComfortLiving Bluetooth Speaker  Electronics  300.68   \n",
            "4      902.04  ComfortLiving Bluetooth Speaker  Electronics  300.68   \n",
            "\n",
            "      CustomerName         Region  SignupDate  \n",
            "0   Andrea Jenkins         Europe  2022-12-03  \n",
            "1  Brittany Harvey           Asia  2024-09-04  \n",
            "2  Kathryn Stevens         Europe  2024-04-04  \n",
            "3  Travis Campbell  South America  2024-04-11  \n",
            "4    Timothy Perez         Europe  2022-03-15  \n"
          ]
        }
      ]
    },
    {
      "cell_type": "markdown",
      "source": [
        "# FEATURE ENGINEERING:\n",
        "1.   Total Transaction Value: Sum of all transaction values for the customer.\n",
        "2. Average Transaction Value: Average spending per transaction.\n",
        "3. Transaction Frequency: Total number of transactions.\n",
        "4. Preferred Product Category: The product category the customer spends the most on.\n",
        "5. Average Price per Product: Mean price of products purchased by the customer."
      ],
      "metadata": {
        "id": "UfuWCC6e6dOh"
      }
    },
    {
      "cell_type": "code",
      "source": [
        "# Total Transaction Value per customer\n",
        "total_transaction_value = full_data.groupby(\"CustomerID\")[\"TotalValue\"].sum().reset_index()\n",
        "total_transaction_value.rename(columns={\"TotalValue\": \"TotalTransactionValue\"}, inplace=True)\n",
        "\n",
        "# Average Transaction Value per customer\n",
        "average_transaction_value = full_data.groupby(\"CustomerID\")[\"TotalValue\"].mean().reset_index()\n",
        "average_transaction_value.rename(columns={\"TotalValue\": \"AverageTransactionValue\"}, inplace=True)\n",
        "\n",
        "# Transaction Frequency per customer\n",
        "transaction_frequency = full_data.groupby(\"CustomerID\")[\"TransactionID\"].count().reset_index()\n",
        "transaction_frequency.rename(columns={\"TransactionID\": \"TransactionFrequency\"}, inplace=True)\n",
        "\n",
        "# Preferred Product Category per customer\n",
        "preferred_category = (\n",
        "    full_data.groupby([\"CustomerID\", \"Category\"])[\"TotalValue\"]\n",
        "    .sum()\n",
        "    .reset_index()\n",
        "    .sort_values([\"CustomerID\", \"TotalValue\"], ascending=[True, False])\n",
        ")\n",
        "preferred_category = preferred_category.drop_duplicates(\"CustomerID\")[[\"CustomerID\", \"Category\"]]\n",
        "preferred_category.rename(columns={\"Category\": \"PreferredCategory\"}, inplace=True)\n",
        "\n",
        "# Average Price per Product per customer\n",
        "average_price_per_product = full_data.groupby(\"CustomerID\")[\"Price\"].mean().reset_index()\n",
        "average_price_per_product.rename(columns={\"Price\": \"AveragePricePerProduct\"}, inplace=True)\n",
        "\n",
        "# Combine all features into a single DataFrame\n",
        "customer_features = total_transaction_value.merge(average_transaction_value, on=\"CustomerID\")\n",
        "customer_features = customer_features.merge(transaction_frequency, on=\"CustomerID\")\n",
        "customer_features = customer_features.merge(preferred_category, on=\"CustomerID\")\n",
        "customer_features = customer_features.merge(average_price_per_product, on=\"CustomerID\")\n",
        "\n",
        "# Display the features\n",
        "print(\"Customer-Level Features:\")\n",
        "print(customer_features.head())\n",
        "\n",
        "customer_features.to_csv(\"Customer_Features.csv\", index=False)\n"
      ],
      "metadata": {
        "colab": {
          "base_uri": "https://localhost:8080/"
        },
        "id": "q1x3Ia8TGpMq",
        "outputId": "c2c7bdcf-2447-4b6c-8661-48ffd6891ee0"
      },
      "execution_count": 12,
      "outputs": [
        {
          "output_type": "stream",
          "name": "stdout",
          "text": [
            "Customer-Level Features:\n",
            "  CustomerID  TotalTransactionValue  AverageTransactionValue  \\\n",
            "0      C0001                3354.52                  670.904   \n",
            "1      C0002                1862.74                  465.685   \n",
            "2      C0003                2725.38                  681.345   \n",
            "3      C0004                5354.88                  669.360   \n",
            "4      C0005                2034.24                  678.080   \n",
            "\n",
            "   TransactionFrequency PreferredCategory  AveragePricePerProduct  \n",
            "0                     5       Electronics              278.334000  \n",
            "1                     4          Clothing              208.920000  \n",
            "2                     4       Electronics              195.707500  \n",
            "3                     8        Home Decor              240.636250  \n",
            "4                     3       Electronics              291.603333  \n"
          ]
        }
      ]
    },
    {
      "cell_type": "markdown",
      "source": [
        "Let's Use Cosine Similarity to measure similarity between customer profiles.\n",
        "Extracting feature columns only (numeric values) for the calculation."
      ],
      "metadata": {
        "id": "jDjoSdGZIWHO"
      }
    },
    {
      "cell_type": "code",
      "source": [
        "from sklearn.metrics.pairwise import cosine_similarity\n",
        "from sklearn.preprocessing import StandardScaler\n",
        "import pandas as pd\n",
        "\n",
        "# let's  Normalize Features first for a better fit\n",
        "# and Select numeric feature columns\n",
        "feature_cols = [\"TotalTransactionValue\", \"AverageTransactionValue\", \"TransactionFrequency\", \"AveragePricePerProduct\"]\n",
        "\n",
        "# Normalize numeric features using StandardScaler\n",
        "scaler = StandardScaler()\n",
        "normalized_profiles = scaler.fit_transform(customer_features[feature_cols])\n",
        "\n",
        "# Computing cosine similarity between normalized customer profiles\n",
        "similarity_matrix = cosine_similarity(normalized_profiles)\n",
        "\n",
        "# Convert similarity matrix to a DataFrame\n",
        "similarity_df = pd.DataFrame(\n",
        "    similarity_matrix,\n",
        "    index=customer_features[\"CustomerID\"],\n",
        "    columns=customer_features[\"CustomerID\"]\n",
        ")\n",
        "\n",
        "# Step 3: Generate Lookalikes for First 20 Customers\n",
        "lookalikes = {}\n",
        "customer_subset = customer_features[customer_features[\"CustomerID\"].isin([f\"C{str(i).zfill(4)}\" for i in range(1, 21)])]\n",
        "\n",
        "for cust_id in customer_subset[\"CustomerID\"]:\n",
        "    # Get similarity scores for the current customer, excluding itself\n",
        "    similar_customers = similarity_df[cust_id].sort_values(ascending=False).iloc[1:4]\n",
        "    # Store top 3 similar customers and their scores\n",
        "    lookalikes[cust_id] = [{\"cust_id\": idx, \"score\": round(score, 4)} for idx, score in similar_customers.items()]\n",
        "\n",
        "# Converting lookalikes dictionary to a DataFrame and downloading it\n",
        "lookalike_df = pd.DataFrame({\n",
        "    \"cust_id\": list(lookalikes.keys()),\n",
        "    \"lookalikes\": [str(v) for v in lookalikes.values()]\n",
        "})\n",
        "\n",
        "lookalike_df.to_csv(\"Lookalike.csv\", index=False)\n",
        "\n",
        "print(\"Lookalike Recommendations:\")\n",
        "print(lookalike_df.head())\n"
      ],
      "metadata": {
        "colab": {
          "base_uri": "https://localhost:8080/"
        },
        "id": "h1mn8YNjIfTh",
        "outputId": "32ed04cf-0a8b-4575-bf2d-0f75e2cb05a7"
      },
      "execution_count": 15,
      "outputs": [
        {
          "output_type": "stream",
          "name": "stdout",
          "text": [
            "Lookalike Recommendations:\n",
            "  cust_id                                         lookalikes\n",
            "0   C0001  [{'cust_id': 'C0103', 'score': 0.9744}, {'cust...\n",
            "1   C0002  [{'cust_id': 'C0029', 'score': 0.9996}, {'cust...\n",
            "2   C0003  [{'cust_id': 'C0178', 'score': 0.9539}, {'cust...\n",
            "3   C0004  [{'cust_id': 'C0075', 'score': 0.9971}, {'cust...\n",
            "4   C0005  [{'cust_id': 'C0061', 'score': 0.9922}, {'cust...\n"
          ]
        }
      ]
    }
  ]
}