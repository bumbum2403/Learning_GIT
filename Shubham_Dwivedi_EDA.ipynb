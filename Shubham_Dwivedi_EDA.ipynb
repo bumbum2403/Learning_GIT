{
  "nbformat": 4,
  "nbformat_minor": 0,
  "metadata": {
    "colab": {
      "provenance": [],
      "authorship_tag": "ABX9TyOyo/eZqzb4ekNOn9HiWJrp",
      "include_colab_link": true
    },
    "kernelspec": {
      "name": "python3",
      "display_name": "Python 3"
    },
    "language_info": {
      "name": "python"
    }
  },
  "cells": [
    {
      "cell_type": "markdown",
      "metadata": {
        "id": "view-in-github",
        "colab_type": "text"
      },
      "source": [
        "<a href=\"https://colab.research.google.com/github/bumbum2403/Learning_GIT/blob/main/EDA_1.ipynb\" target=\"_parent\"><img src=\"https://colab.research.google.com/assets/colab-badge.svg\" alt=\"Open In Colab\"/></a>"
      ]
    },
    {
      "cell_type": "code",
      "execution_count": 1,
      "metadata": {
        "id": "GabvdztKNCJV"
      },
      "outputs": [],
      "source": [
        "import pandas as pd\n",
        "import numpy as np\n",
        "import matplotlib.pyplot as plt\n",
        "import seaborn as sns\n"
      ]
    },
    {
      "cell_type": "code",
      "source": [
        "customers_df = pd.read_csv('Customers.csv')\n",
        "products_df = pd.read_csv('Products.csv')\n",
        "transactions_df = pd.read_csv('Transactions.csv')\n"
      ],
      "metadata": {
        "id": "k8SCyj-pN0uf"
      },
      "execution_count": 2,
      "outputs": []
    },
    {
      "cell_type": "code",
      "source": [
        "# Let's view the first few rows\n",
        "print(\"Customers DataFrame:\")\n",
        "print(customers_df.head())\n",
        "\n",
        "print(\"\\nProducts DataFrame:\")\n",
        "print(products_df.head())\n",
        "\n",
        "print(\"\\nTransactions DataFrame:\")\n",
        "print(transactions_df.head())\n"
      ],
      "metadata": {
        "colab": {
          "base_uri": "https://localhost:8080/"
        },
        "id": "rfgEqSUnN2Uj",
        "outputId": "b5d33a8d-d0d4-46d4-82d1-724940ec77b7"
      },
      "execution_count": 3,
      "outputs": [
        {
          "output_type": "stream",
          "name": "stdout",
          "text": [
            "Customers DataFrame:\n",
            "  CustomerID        CustomerName         Region  SignupDate\n",
            "0      C0001    Lawrence Carroll  South America  2022-07-10\n",
            "1      C0002      Elizabeth Lutz           Asia  2022-02-13\n",
            "2      C0003      Michael Rivera  South America  2024-03-07\n",
            "3      C0004  Kathleen Rodriguez  South America  2022-10-09\n",
            "4      C0005         Laura Weber           Asia  2022-08-15\n",
            "\n",
            "Products DataFrame:\n",
            "  ProductID              ProductName     Category   Price\n",
            "0      P001     ActiveWear Biography        Books  169.30\n",
            "1      P002    ActiveWear Smartwatch  Electronics  346.30\n",
            "2      P003  ComfortLiving Biography        Books   44.12\n",
            "3      P004            BookWorld Rug   Home Decor   95.69\n",
            "4      P005          TechPro T-Shirt     Clothing  429.31\n",
            "\n",
            "Transactions DataFrame:\n",
            "  TransactionID CustomerID ProductID      TransactionDate  Quantity  \\\n",
            "0        T00001      C0199      P067  2024-08-25 12:38:23         1   \n",
            "1        T00112      C0146      P067  2024-05-27 22:23:54         1   \n",
            "2        T00166      C0127      P067  2024-04-25 07:38:55         1   \n",
            "3        T00272      C0087      P067  2024-03-26 22:55:37         2   \n",
            "4        T00363      C0070      P067  2024-03-21 15:10:10         3   \n",
            "\n",
            "   TotalValue   Price  \n",
            "0      300.68  300.68  \n",
            "1      300.68  300.68  \n",
            "2      300.68  300.68  \n",
            "3      601.36  300.68  \n",
            "4      902.04  300.68  \n"
          ]
        }
      ]
    },
    {
      "cell_type": "code",
      "source": [
        "print(\"Data Types:\")\n",
        "print(customers_df.dtypes)\n",
        "print(products_df.dtypes)\n",
        "print(transactions_df.dtypes)\n",
        "\n",
        "# also let's perform a check for missing/duplicate values in the df\n",
        "\n",
        "print(\"Missing values in Customers:\")\n",
        "print(customers_df.isnull().sum())\n",
        "\n",
        "print(\"\\nMissing values in Products:\")\n",
        "print(products_df.isnull().sum())\n",
        "\n",
        "print(\"\\nMissing values in Transactions:\")\n",
        "print(transactions_df.isnull().sum())\n",
        "\n",
        "# Check for duplicate rows\n",
        "print(\"\\nDuplicate rows in Customers:\", customers_df.duplicated().sum())\n",
        "print(\"Duplicate rows in Products:\", products_df.duplicated().sum())\n",
        "print(\"Duplicate rows in Transactions:\", transactions_df.duplicated().sum())\n"
      ],
      "metadata": {
        "colab": {
          "base_uri": "https://localhost:8080/"
        },
        "id": "SF5X672VOI0M",
        "outputId": "61ab7573-acd2-480a-8fd5-2651ef38c966"
      },
      "execution_count": 9,
      "outputs": [
        {
          "output_type": "stream",
          "name": "stdout",
          "text": [
            "Data Types:\n",
            "CustomerID      object\n",
            "CustomerName    object\n",
            "Region          object\n",
            "SignupDate      object\n",
            "dtype: object\n",
            "ProductID       object\n",
            "ProductName     object\n",
            "Category        object\n",
            "Price          float64\n",
            "dtype: object\n",
            "TransactionID       object\n",
            "CustomerID          object\n",
            "ProductID           object\n",
            "TransactionDate     object\n",
            "Quantity             int64\n",
            "TotalValue         float64\n",
            "Price              float64\n",
            "dtype: object\n",
            "Missing values in Customers:\n",
            "CustomerID      0\n",
            "CustomerName    0\n",
            "Region          0\n",
            "SignupDate      0\n",
            "dtype: int64\n",
            "\n",
            "Missing values in Products:\n",
            "ProductID      0\n",
            "ProductName    0\n",
            "Category       0\n",
            "Price          0\n",
            "dtype: int64\n",
            "\n",
            "Missing values in Transactions:\n",
            "TransactionID      0\n",
            "CustomerID         0\n",
            "ProductID          0\n",
            "TransactionDate    0\n",
            "Quantity           0\n",
            "TotalValue         0\n",
            "Price              0\n",
            "dtype: int64\n",
            "\n",
            "Duplicate rows in Customers: 0\n",
            "Duplicate rows in Products: 0\n",
            "Duplicate rows in Transactions: 0\n"
          ]
        }
      ]
    },
    {
      "cell_type": "markdown",
      "source": [
        "# SMALL PREPROCESSING STEP"
      ],
      "metadata": {
        "id": "PnUd8sQHW97B"
      }
    },
    {
      "cell_type": "markdown",
      "source": [
        "For starters we can see that in TransactionDate column, we also have values for the corrresponding time, when the order was placed by the customer, so let's seperate that into a new column TransactionTime.\n",
        "But first, we'll have to create it into a DateTime object..."
      ],
      "metadata": {
        "id": "hzGxBgfdQVeF"
      }
    },
    {
      "cell_type": "code",
      "source": [
        "# Convert TransactionDate to datetime\n",
        "transactions_df['TransactionDate'] = pd.to_datetime(transactions_df['TransactionDate'])\n",
        "# while we're at it, let's just create the SignupDate into a datetime obj as well\n",
        "customers_df['SignupDate'] = pd.to_datetime(customers_df['SignupDate'])\n",
        "\n",
        "\n",
        "# Creating a new column for the time in transactions_df\n",
        "transactions_df['TransactionTime'] = transactions_df['TransactionDate'].dt.time\n",
        "\n",
        "# Update the TransactionDate column to only keep the date\n",
        "transactions_df['TransactionDate'] = transactions_df['TransactionDate'].dt.date\n",
        "\n",
        "print(transactions_df.head())\n"
      ],
      "metadata": {
        "colab": {
          "base_uri": "https://localhost:8080/"
        },
        "id": "-1IRVHntQm91",
        "outputId": "7b277f61-aa35-41cd-df70-e8168eb8fab1"
      },
      "execution_count": 10,
      "outputs": [
        {
          "output_type": "stream",
          "name": "stdout",
          "text": [
            "  TransactionID CustomerID ProductID TransactionDate  Quantity  TotalValue  \\\n",
            "0        T00001      C0199      P067      2024-08-25         1      300.68   \n",
            "1        T00112      C0146      P067      2024-05-27         1      300.68   \n",
            "2        T00166      C0127      P067      2024-04-25         1      300.68   \n",
            "3        T00272      C0087      P067      2024-03-26         2      601.36   \n",
            "4        T00363      C0070      P067      2024-03-21         3      902.04   \n",
            "\n",
            "    Price TransactionTime  \n",
            "0  300.68        12:38:23  \n",
            "1  300.68        22:23:54  \n",
            "2  300.68        07:38:55  \n",
            "3  300.68        22:55:37  \n",
            "4  300.68        15:10:10  \n"
          ]
        }
      ]
    },
    {
      "cell_type": "markdown",
      "source": [
        "# **TASK-1**"
      ],
      "metadata": {
        "id": "Yio0oVqbUPCO"
      }
    },
    {
      "cell_type": "markdown",
      "source": [
        "# EDA_1: Customer Segment by Region"
      ],
      "metadata": {
        "id": "gT6OwZUHS11G"
      }
    },
    {
      "cell_type": "code",
      "source": [
        "customer_region_counts = customers_df['Region'].value_counts()\n",
        "\n",
        "# Finding regions with the highest and lowest number of customers\n",
        "most_customers_region = customer_region_counts.idxmax()\n",
        "least_customers_region = customer_region_counts.idxmin()\n",
        "\n",
        "print(\"Region with most customers:\", most_customers_region, customer_region_counts[most_customers_region])\n",
        "print(\"Region with least customers:\", least_customers_region, customer_region_counts[least_customers_region])\n",
        "print(\"Total number of customers:\", len(customers_df))\n"
      ],
      "metadata": {
        "colab": {
          "base_uri": "https://localhost:8080/"
        },
        "id": "hSt7LqoSS78S",
        "outputId": "fbee7eb7-66a6-46f4-df3c-4bc4bc36e2e2"
      },
      "execution_count": 12,
      "outputs": [
        {
          "output_type": "stream",
          "name": "stdout",
          "text": [
            "Region with most customers: South America 59\n",
            "Region with least customers: Asia 45\n",
            "Total number of customers: 200\n"
          ]
        }
      ]
    },
    {
      "cell_type": "markdown",
      "source": [
        "# EDA_2: Types and Categories of Products Sold"
      ],
      "metadata": {
        "id": "bj7abg3qUrWy"
      }
    },
    {
      "cell_type": "code",
      "source": [
        "# First let's Merge transactions with products\n",
        "transactions_products = pd.merge(transactions_df, products_df, on='ProductID', how='left')\n",
        "\n",
        "# let's Count products sold by category\n",
        "category_counts = transactions_products['Category'].value_counts()\n",
        "\n",
        "most_sold_category = category_counts.idxmax()\n",
        "\n",
        "print(\"Category-wise product sales:\")\n",
        "print(category_counts)\n",
        "print(\"\\nMost sold category:\", most_sold_category, category_counts[most_sold_category])\n"
      ],
      "metadata": {
        "colab": {
          "base_uri": "https://localhost:8080/"
        },
        "id": "-ROXUS1eU8wX",
        "outputId": "be70cf64-1986-4cf9-c2a1-c636981eb15d"
      },
      "execution_count": 13,
      "outputs": [
        {
          "output_type": "stream",
          "name": "stdout",
          "text": [
            "Category-wise product sales:\n",
            "Category\n",
            "Books          270\n",
            "Electronics    254\n",
            "Home Decor     248\n",
            "Clothing       228\n",
            "Name: count, dtype: int64\n",
            "\n",
            "Most sold category: Books 270\n"
          ]
        }
      ]
    },
    {
      "source": [
        "all_data = pd.merge(transactions_products, customers_df, on='CustomerID', how='left')\n",
        "\n",
        "# Group by category and region, then sum quantities\n",
        "category_region_sales = all_data.groupby(['Category', 'Region'])['Quantity'].sum().reset_index()\n",
        "\n",
        "# Find the country with maximum sales for each category\n",
        "for category in category_region_sales['Category'].unique():\n",
        "    max_sales_row = category_region_sales[category_region_sales['Category'] == category].loc[category_region_sales[category_region_sales['Category'] == category]['Quantity'].idxmax()]\n",
        "    max_sales_country = max_sales_row['Region']\n",
        "    max_sales_quantity = max_sales_row['Quantity']\n",
        "    print(f\"Category: {category}|| Country with maximum sales: {max_sales_country} ({max_sales_quantity} items sold)\")"
      ],
      "cell_type": "code",
      "metadata": {
        "colab": {
          "base_uri": "https://localhost:8080/"
        },
        "id": "nRcG5yZ6WOGn",
        "outputId": "9dabfbaf-7a6a-4d3b-d3c3-6299b5af0ed5"
      },
      "execution_count": 17,
      "outputs": [
        {
          "output_type": "stream",
          "name": "stdout",
          "text": [
            "Category: Books|| Country with maximum sales: South America (241 items sold)\n",
            "Category: Clothing|| Country with maximum sales: Asia (166 items sold)\n",
            "Category: Electronics|| Country with maximum sales: South America (198 items sold)\n",
            "Category: Home Decor|| Country with maximum sales: South America (192 items sold)\n"
          ]
        }
      ]
    },
    {
      "source": [
        "all_data = pd.merge(transactions_products, customers_df, on='CustomerID', how='left')\n",
        "'''finding the country alone doesn't give us much of an insight,\n",
        " let's also find which is the highest selling product '''\n",
        "# Group by category and product, then sum quantities\n",
        "category_product_sales = all_data.groupby(['Category', 'ProductName'])['Quantity'].sum().reset_index()\n",
        "\n",
        "# Find the most sold product within each category\n",
        "for category in category_product_sales['Category'].unique():\n",
        "    category_data = category_product_sales[category_product_sales['Category'] == category]\n",
        "    max_sales_row = category_data.loc[category_data['Quantity'].idxmax()]\n",
        "    most_sold_product = max_sales_row['ProductName']\n",
        "    max_sales_quantity = max_sales_row['Quantity']\n",
        "    print(f\"Category: {category} || Most sold product: {most_sold_product} ({max_sales_quantity} items sold)\")"
      ],
      "cell_type": "code",
      "metadata": {
        "colab": {
          "base_uri": "https://localhost:8080/"
        },
        "id": "7nMNyC1xYXbA",
        "outputId": "4afafb71-278a-4209-dd5c-467b70f5f9fd"
      },
      "execution_count": 20,
      "outputs": [
        {
          "output_type": "stream",
          "name": "stdout",
          "text": [
            "Category: Books || Most sold product: SoundWave Cookbook (78 items sold)\n",
            "Category: Clothing || Most sold product: ActiveWear Jacket (76 items sold)\n",
            "Category: Electronics || Most sold product: ActiveWear Smartwatch (100 items sold)\n",
            "Category: Home Decor || Most sold product: HomeSense Desk Lamp (81 items sold)\n"
          ]
        }
      ]
    },
    {
      "cell_type": "markdown",
      "source": [
        "# EDA_3: Top Customers and Products by Revenue"
      ],
      "metadata": {
        "id": "Py6RZR06Wvrk"
      }
    },
    {
      "cell_type": "code",
      "source": [
        "# Merge transactions with customers\n",
        "transactions_customers = pd.merge(transactions_df, customers_df, on='CustomerID', how='left')\n",
        "\n",
        "# Total revenue by customer\n",
        "customer_revenue = transactions_customers.groupby('CustomerID')['TotalValue'].sum().sort_values(ascending=False)\n",
        "\n",
        "# Top customers\n",
        "print(\"Top customers by revenue:\")\n",
        "print(customer_revenue.head())\n"
      ],
      "metadata": {
        "colab": {
          "base_uri": "https://localhost:8080/"
        },
        "id": "OWduzPpaW2bE",
        "outputId": "569c4b12-c933-48c1-c8c2-d5b3ff140f0d"
      },
      "execution_count": 18,
      "outputs": [
        {
          "output_type": "stream",
          "name": "stdout",
          "text": [
            "Top customers by revenue:\n",
            "CustomerID\n",
            "C0141    10673.87\n",
            "C0054     8040.39\n",
            "C0065     7663.70\n",
            "C0156     7634.45\n",
            "C0082     7572.91\n",
            "Name: TotalValue, dtype: float64\n"
          ]
        }
      ]
    },
    {
      "source": [
        "# Merge transactions with customers and products\n",
        "all_data = pd.merge(transactions_df, customers_df, on='CustomerID', how='left')\n",
        "all_data = pd.merge(all_data, products_df, on='ProductID', how='left')\n",
        "\n",
        "# Calculate total revenue by customer\n",
        "customer_revenue = all_data.groupby('CustomerID')['TotalValue'].sum().sort_values(ascending=False)\n",
        "\n",
        "# Get top customers\n",
        "top_customers = customer_revenue.head(10).index  # Get top 10 customers\n",
        "\n",
        "# Filter data for top customers and get their country and most purchased category\n",
        "top_customer_data = all_data[all_data['CustomerID'].isin(top_customers)]\n",
        "top_customer_country = top_customer_data.groupby('CustomerID')['Region'].first()  # Assuming one country per customer\n",
        "top_customer_category = top_customer_data.groupby('CustomerID')['Category'].agg(lambda x: x.value_counts().index[0])  # Most frequent category\n",
        "\n",
        "\n",
        "# Create a DataFrame for top customers with country and category\n",
        "top_customers_df = pd.DataFrame({'Revenue': customer_revenue.head(10),\n",
        "                                  'Country': top_customer_country,\n",
        "                                  'Most Purchased Category': top_customer_category})\n",
        "\n",
        "print(\"Top customers by revenue with country and category:\")\n",
        "print(top_customers_df)"
      ],
      "cell_type": "code",
      "metadata": {
        "colab": {
          "base_uri": "https://localhost:8080/"
        },
        "id": "uvSMzoT-Xb4-",
        "outputId": "2b1de37f-9c88-46f5-eeba-38a7d22b1b57"
      },
      "execution_count": 19,
      "outputs": [
        {
          "output_type": "stream",
          "name": "stdout",
          "text": [
            "Top customers by revenue with country and category:\n",
            "             Revenue        Country Most Purchased Category\n",
            "CustomerID                                                 \n",
            "C0028        6819.57           Asia             Electronics\n",
            "C0054        8040.39           Asia             Electronics\n",
            "C0059        7073.28  North America              Home Decor\n",
            "C0065        7663.70  North America              Home Decor\n",
            "C0082        7572.91  South America                   Books\n",
            "C0099        6715.72  South America                Clothing\n",
            "C0141       10673.87         Europe                Clothing\n",
            "C0156        7634.45  North America                   Books\n",
            "C0165        6708.10  South America                   Books\n",
            "C0188        7111.32  South America             Electronics\n"
          ]
        }
      ]
    },
    {
      "cell_type": "code",
      "source": [
        "# Total revenue by product\n",
        "product_revenue = transactions_products.groupby('ProductName')['TotalValue'].sum().sort_values(ascending=False)\n",
        "\n",
        "# Top products\n",
        "print(\"Top products by revenue:\")\n",
        "print(product_revenue.head())\n"
      ],
      "metadata": {
        "colab": {
          "base_uri": "https://localhost:8080/"
        },
        "id": "bQ_HZ_d9aQer",
        "outputId": "2bbe5f5e-c0b5-45f6-a633-4bc69ff53953"
      },
      "execution_count": 25,
      "outputs": [
        {
          "output_type": "stream",
          "name": "stdout",
          "text": [
            "Top products by revenue:\n",
            "ProductName\n",
            "ActiveWear Smartwatch    39096.97\n",
            "SoundWave Headphones     25211.64\n",
            "SoundWave Novel          24507.90\n",
            "ActiveWear Jacket        22712.56\n",
            "ActiveWear Rug           22314.43\n",
            "Name: TotalValue, dtype: float64\n"
          ]
        }
      ]
    },
    {
      "cell_type": "markdown",
      "source": [
        "# EDA_4: Seasonality Trend Analysis"
      ],
      "metadata": {
        "id": "Lr5aIwQ4au6r"
      }
    },
    {
      "cell_type": "code",
      "source": [
        "# let's add a new  'Month' column for seasonality analysis\n",
        "transactions_df['Month'] = pd.to_datetime(transactions_df['TransactionDate']).dt.to_period('M')\n",
        "\n",
        "# Group by month and calculate total revenue\n",
        "monthly_revenue = transactions_df.groupby('Month')['TotalValue'].sum()\n",
        "\n",
        "monthly_revenue.plot(kind='line', title='Monthly Revenue Trend', xlabel='Month', ylabel='Revenue')\n",
        "plt.show()\n"
      ],
      "metadata": {
        "colab": {
          "base_uri": "https://localhost:8080/",
          "height": 488
        },
        "id": "P6FsFmn1apgy",
        "outputId": "5dc4a225-2c2e-467a-e71d-1d2d2f31a71e"
      },
      "execution_count": 23,
      "outputs": [
        {
          "output_type": "display_data",
          "data": {
            "text/plain": [
              "<Figure size 640x480 with 1 Axes>"
            ],
            "image/png": "[encoded data removed]"
          },
          "metadata": {}
        }
      ]
    },
    {
      "source": [
        "# Displaying monthly revenue\n",
        "for month, revenue in monthly_revenue.items():\n",
        "    print(f\"Cumulative revenue by the end of {month}: {round(revenue, 2)}\") # Use the round function instead of the round method."
      ],
      "cell_type": "code",
      "metadata": {
        "colab": {
          "base_uri": "https://localhost:8080/"
        },
        "id": "bVs41U4tb1rd",
        "outputId": "12def5a8-5fad-4289-cdf4-909fb6ebb528"
      },
      "execution_count": 30,
      "outputs": [
        {
          "output_type": "stream",
          "name": "stdout",
          "text": [
            "Total revenue by the end of 2023-12: 3769.52\n",
            "Total revenue by the end of 2024-01: 66376.39\n",
            "Total revenue by the end of 2024-02: 51459.27\n",
            "Total revenue by the end of 2024-03: 47828.73\n",
            "Total revenue by the end of 2024-04: 57519.06\n",
            "Total revenue by the end of 2024-05: 64527.74\n",
            "Total revenue by the end of 2024-06: 48771.18\n",
            "Total revenue by the end of 2024-07: 71366.39\n",
            "Total revenue by the end of 2024-08: 63436.74\n",
            "Total revenue by the end of 2024-09: 70603.75\n",
            "Total revenue by the end of 2024-10: 47063.22\n",
            "Total revenue by the end of 2024-11: 38224.37\n",
            "Total revenue by the end of 2024-12: 59049.2\n"
          ]
        }
      ]
    },
    {
      "cell_type": "code",
      "source": [
        "# let's Add a cumulative revenue column\n",
        "'''let's look at how the nature of growth for our company\n",
        "looking at the revenue data, it must be a linear type of growth'''\n",
        "monthly_revenue = transactions_df.groupby('Month')['TotalValue'].sum()\n",
        "\n",
        "monthly_revenue_cumulative = monthly_revenue.cumsum()\n",
        "\n",
        "# Print cumulative revenue at the end of each month\n",
        "print(\"Cumulative Revenue by the end of each month:\")\n",
        "print(monthly_revenue_cumulative)\n",
        "\n",
        "# Plot cumulative revenue trend\n",
        "monthly_revenue_cumulative.plot(kind='line', title='Cumulative Revenue Trend', xlabel='Month', ylabel='Cumulative Revenue')\n",
        "plt.show()\n"
      ],
      "metadata": {
        "colab": {
          "base_uri": "https://localhost:8080/",
          "height": 766
        },
        "id": "r2rZBv2SdPRo",
        "outputId": "ef095b82-c7f9-42e7-a841-23f855fc2914"
      },
      "execution_count": 34,
      "outputs": [
        {
          "output_type": "stream",
          "name": "stdout",
          "text": [
            "Cumulative Revenue by the end of each month:\n",
            "Month\n",
            "2023-12      3769.52\n",
            "2024-01     70145.91\n",
            "2024-02    121605.18\n",
            "2024-03    169433.91\n",
            "2024-04    226952.97\n",
            "2024-05    291480.71\n",
            "2024-06    340251.89\n",
            "2024-07    411618.28\n",
            "2024-08    475055.02\n",
            "2024-09    545658.77\n",
            "2024-10    592721.99\n",
            "2024-11    630946.36\n",
            "2024-12    689995.56\n",
            "Freq: M, Name: TotalValue, dtype: float64\n"
          ]
        },
        {
          "output_type": "display_data",
          "data": {
            "text/plain": [
              "<Figure size 640x480 with 1 Axes>"
            ],
            "image/png": "[encoded data removed]"
          },
          "metadata": {}
        }
      ]
    }
  ]
}
